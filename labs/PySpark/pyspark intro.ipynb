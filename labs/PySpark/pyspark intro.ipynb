{
 "cells": [
  {
   "cell_type": "markdown",
   "id": "8ff41f5d",
   "metadata": {},
   "source": [
    "## Pyspark Introduction\n",
    "\n",
    "\n",
    "Jay Urbain, PhD   \n",
    "4/26/2023"
   ]
  },
  {
   "cell_type": "markdown",
   "id": "ab60fc5e",
   "metadata": {},
   "source": [
    "First you need to make sure jupyter is using the Java installed in your environment. One of the two following options should work."
   ]
  },
  {
   "cell_type": "code",
   "execution_count": 9,
   "id": "d307f256",
   "metadata": {},
   "outputs": [],
   "source": [
    "# option 1\n",
    "\n",
    "import os\n",
    "\n",
    "JAVA_HOME = \"/Users/jayurbain/opt/miniconda3/envs/pytorch_quant\"\n",
    "os.environ[\"JAVA_HOME\"] = JAVA_HOME"
   ]
  },
  {
   "cell_type": "code",
   "execution_count": 10,
   "id": "889921a8",
   "metadata": {},
   "outputs": [],
   "source": [
    "# option 2\n",
    "\n",
    "# import sys\n",
    "# sys.path.append(\"/Users/jayurbain/opt/miniconda3/envs/pytorch_quant\") "
   ]
  },
  {
   "cell_type": "markdown",
   "id": "923c59c3",
   "metadata": {},
   "source": [
    "Imports"
   ]
  },
  {
   "cell_type": "code",
   "execution_count": 12,
   "id": "08b29f6a",
   "metadata": {},
   "outputs": [],
   "source": [
    "import pyspark\n",
    "from pyspark.sql import SparkSession\n",
    "import findspark\n",
    "import pandas as pd"
   ]
  },
  {
   "cell_type": "markdown",
   "id": "07209705",
   "metadata": {},
   "source": [
    "Set up the proper paths for Spark"
   ]
  },
  {
   "cell_type": "code",
   "execution_count": 13,
   "id": "9e51e597",
   "metadata": {},
   "outputs": [
    {
     "data": {
      "text/plain": [
       "'/Users/jayurbain/opt/miniconda3/envs/pytorch_quant/lib/python3.9/site-packages/pyspark'"
      ]
     },
     "execution_count": 13,
     "metadata": {},
     "output_type": "execute_result"
    }
   ],
   "source": [
    "findspark.init()\n",
    "findspark.find()"
   ]
  },
  {
   "cell_type": "markdown",
   "id": "efc97897",
   "metadata": {},
   "source": [
    "Create a Spark Session"
   ]
  },
  {
   "cell_type": "code",
   "execution_count": 15,
   "id": "ce4dbc09",
   "metadata": {},
   "outputs": [],
   "source": [
    "spark=SparkSession.builder.appName('Intro').getOrCreate()"
   ]
  },
  {
   "cell_type": "code",
   "execution_count": 16,
   "id": "e1de79e4",
   "metadata": {},
   "outputs": [
    {
     "data": {
      "text/plain": [
       "pandas.core.frame.DataFrame"
      ]
     },
     "execution_count": 16,
     "metadata": {},
     "output_type": "execute_result"
    }
   ],
   "source": [
    "type(pd.read_csv('test1.csv'))"
   ]
  },
  {
   "cell_type": "code",
   "execution_count": 17,
   "id": "558caca5",
   "metadata": {},
   "outputs": [
    {
     "data": {
      "text/html": [
       "\n",
       "            <div>\n",
       "                <p><b>SparkSession - in-memory</b></p>\n",
       "                \n",
       "        <div>\n",
       "            <p><b>SparkContext</b></p>\n",
       "\n",
       "            <p><a href=\"http://jays-mbp:4040\">Spark UI</a></p>\n",
       "\n",
       "            <dl>\n",
       "              <dt>Version</dt>\n",
       "                <dd><code>v3.4.0</code></dd>\n",
       "              <dt>Master</dt>\n",
       "                <dd><code>local[*]</code></dd>\n",
       "              <dt>AppName</dt>\n",
       "                <dd><code>Intro</code></dd>\n",
       "            </dl>\n",
       "        </div>\n",
       "        \n",
       "            </div>\n",
       "        "
      ],
      "text/plain": [
       "<pyspark.sql.session.SparkSession at 0x137e38460>"
      ]
     },
     "execution_count": 17,
     "metadata": {},
     "output_type": "execute_result"
    }
   ],
   "source": [
    "spark"
   ]
  },
  {
   "cell_type": "code",
   "execution_count": 18,
   "id": "f7ac726b",
   "metadata": {},
   "outputs": [],
   "source": [
    "df_pyspark=spark.read.csv('test1.csv')"
   ]
  },
  {
   "cell_type": "code",
   "execution_count": 19,
   "id": "6f077d49",
   "metadata": {},
   "outputs": [],
   "source": [
    "df_pyspark=spark.read.option('header','true').csv('test1.csv')"
   ]
  },
  {
   "cell_type": "code",
   "execution_count": 20,
   "id": "2e0eee51",
   "metadata": {},
   "outputs": [
    {
     "data": {
      "text/plain": [
       "pyspark.sql.dataframe.DataFrame"
      ]
     },
     "execution_count": 20,
     "metadata": {},
     "output_type": "execute_result"
    }
   ],
   "source": [
    "type(df_pyspark)"
   ]
  },
  {
   "cell_type": "code",
   "execution_count": 21,
   "id": "bb26bf24",
   "metadata": {},
   "outputs": [
    {
     "name": "stdout",
     "output_type": "stream",
     "text": [
      "root\n",
      " |-- Name: string (nullable = true)\n",
      " |-- age: string (nullable = true)\n",
      " |-- Experience: string (nullable = true)\n",
      " |-- Salary: string (nullable = true)\n",
      "\n"
     ]
    }
   ],
   "source": [
    "df_pyspark.printSchema()"
   ]
  },
  {
   "cell_type": "code",
   "execution_count": null,
   "id": "e9c3ce8e",
   "metadata": {},
   "outputs": [],
   "source": []
  }
 ],
 "metadata": {
  "kernelspec": {
   "display_name": "pytorch_quant",
   "language": "python",
   "name": "pytorch_quant"
  },
  "language_info": {
   "codemirror_mode": {
    "name": "ipython",
    "version": 3
   },
   "file_extension": ".py",
   "mimetype": "text/x-python",
   "name": "python",
   "nbconvert_exporter": "python",
   "pygments_lexer": "ipython3",
   "version": "3.9.12"
  }
 },
 "nbformat": 4,
 "nbformat_minor": 5
}
